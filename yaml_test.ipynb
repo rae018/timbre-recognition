{
 "cells": [
  {
   "cell_type": "code",
   "execution_count": 1,
   "metadata": {},
   "outputs": [],
   "source": [
    "from timbre_recognition.configs.config import *\n",
    "\n",
    "\n",
    "filename = 'timbre_recognition/configs/test.yaml'\n",
    "\n",
    "merge_cfg_from_file(filename)"
   ]
  },
  {
   "cell_type": "code",
   "execution_count": 2,
   "metadata": {},
   "outputs": [
    {
     "data": {
      "text/plain": [
       "{'MODEL': {'CONV_BODY': 'inception_v4',\n",
       "  'EMBED_DIM': 128,\n",
       "  'NUM_CLASSES': 50,\n",
       "  'OUTPUT_DIR': 'timbre_recognition/models'},\n",
       " 'TRAIN': {'BASE_LR': 0.01,\n",
       "  'BATCH_SIZE': 12,\n",
       "  'CHECKPOINT_PERIOD': 2000,\n",
       "  'LOSS_MARGIN': 0.1,\n",
       "  'LR_DECAY_RATE': 0.001,\n",
       "  'NUM_BATCHES_PER_EPOCH': 4,\n",
       "  'NUM_EPOCHS_PER_DECAY': 100,\n",
       "  'TRAINING': True,\n",
       "  'WEIGHTS': ''}}"
      ]
     },
     "execution_count": 2,
     "metadata": {},
     "output_type": "execute_result"
    }
   ],
   "source": [
    "cfg"
   ]
  },
  {
   "cell_type": "code",
   "execution_count": 3,
   "metadata": {},
   "outputs": [
    {
     "data": {
      "text/plain": [
       "{'MODEL': {'CONV_BODY': 'inception_v4',\n",
       "  'EMBED_DIM': 128,\n",
       "  'NUM_CLASSES': 50,\n",
       "  'OUTPUT_DIR': 'timbre_recognition/models'},\n",
       " 'TRAIN': {'BASE_LR': 0.01,\n",
       "  'BATCH_SIZE': 12,\n",
       "  'CHECKPOINT_PERIOD': 2000,\n",
       "  'LOSS_MARGIN': 0.1,\n",
       "  'LR_DECAY_RATE': 0.001,\n",
       "  'NUM_BATCHES_PER_EPOCH': 4,\n",
       "  'NUM_EPOCHS_PER_DECAY': 100,\n",
       "  'TRAINING': True,\n",
       "  'WEIGHTS': ''}}"
      ]
     },
     "execution_count": 3,
     "metadata": {},
     "output_type": "execute_result"
    }
   ],
   "source": [
    "from timbre_recognition.configs.config import *\n",
    "cfg"
   ]
  },
  {
   "cell_type": "code",
   "execution_count": 4,
   "metadata": {},
   "outputs": [
    {
     "data": {
      "text/plain": [
       "12"
      ]
     },
     "execution_count": 4,
     "metadata": {},
     "output_type": "execute_result"
    }
   ],
   "source": [
    "cfg.TRAIN.BATCH_SIZE"
   ]
  }
 ],
 "metadata": {
  "kernelspec": {
   "display_name": "Python 3",
   "language": "python",
   "name": "python3"
  },
  "language_info": {
   "codemirror_mode": {
    "name": "ipython",
    "version": 3
   },
   "file_extension": ".py",
   "mimetype": "text/x-python",
   "name": "python",
   "nbconvert_exporter": "python",
   "pygments_lexer": "ipython3",
   "version": "3.7.4"
  }
 },
 "nbformat": 4,
 "nbformat_minor": 2
}
